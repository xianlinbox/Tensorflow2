{
 "cells": [
  {
   "cell_type": "code",
   "execution_count": 7,
   "metadata": {},
   "outputs": [
    {
     "data": {
      "text/plain": [
       "<matplotlib.collections.PathCollection at 0x14a63e130>"
      ]
     },
     "execution_count": 7,
     "metadata": {},
     "output_type": "execute_result"
    },
    {
     "data": {
      "image/png": "[encoded data removed]",
      "text/plain": [
       "<Figure size 432x288 with 1 Axes>"
      ]
     },
     "metadata": {
      "needs_background": "light"
     },
     "output_type": "display_data"
    }
   ],
   "source": [
    "import tensorflow as tf\n",
    "import numpy as np\n",
    "import matplotlib.pyplot as plt\n",
    "\n",
    "x = np.array([1, 2, 3, 4, 5, 6, 7, 8, 9, 10], dtype=np.float32)\n",
    "y = x+10\n",
    "\n",
    "plt.scatter(x,y)"
   ]
  },
  {
   "cell_type": "code",
   "execution_count": 8,
   "metadata": {},
   "outputs": [
    {
     "name": "stdout",
     "output_type": "stream",
     "text": [
      "Epoch 1/10\n",
      "1/1 [==============================] - 0s 236ms/step - loss: 16.2561 - mae: 16.2561\n",
      "Epoch 2/10\n",
      "1/1 [==============================] - 0s 2ms/step - loss: 15.9436 - mae: 15.9436\n",
      "Epoch 3/10\n",
      "1/1 [==============================] - 0s 2ms/step - loss: 15.6311 - mae: 15.6311\n",
      "Epoch 4/10\n",
      "1/1 [==============================] - 0s 2ms/step - loss: 15.3186 - mae: 15.3186\n",
      "Epoch 5/10\n",
      "1/1 [==============================] - 0s 2ms/step - loss: 15.0061 - mae: 15.0061\n",
      "Epoch 6/10\n",
      "1/1 [==============================] - 0s 3ms/step - loss: 14.6936 - mae: 14.6936\n",
      "Epoch 7/10\n",
      "1/1 [==============================] - 0s 9ms/step - loss: 14.3811 - mae: 14.3811\n",
      "Epoch 8/10\n",
      "1/1 [==============================] - 0s 4ms/step - loss: 14.0686 - mae: 14.0686\n",
      "Epoch 9/10\n",
      "1/1 [==============================] - 0s 5ms/step - loss: 13.7561 - mae: 13.7561\n",
      "Epoch 10/10\n",
      "1/1 [==============================] - 0s 5ms/step - loss: 13.4436 - mae: 13.4436\n"
     ]
    },
    {
     "data": {
      "text/plain": [
       "<keras.callbacks.History at 0x14a675340>"
      ]
     },
     "execution_count": 8,
     "metadata": {},
     "output_type": "execute_result"
    }
   ],
   "source": [
    "tf.random.set_seed(22)\n",
    "model = tf.keras.Sequential([\n",
    "    tf.keras.layers.Dense(units=1, input_shape=[1])\n",
    "    ])\n",
    "model.compile(loss=tf.keras.losses.mae, \n",
    "optimizer= tf.keras.optimizers.SGD(),\n",
    "metrics=['mae'])\n",
    "\n",
    "model.fit(x, y, epochs=10)"
   ]
  },
  {
   "cell_type": "code",
   "execution_count": 11,
   "metadata": {},
   "outputs": [
    {
     "name": "stdout",
     "output_type": "stream",
     "text": [
      "1/1 [==============================] - 0s 36ms/step\n"
     ]
    },
    {
     "data": {
      "text/plain": [
       "array([[ 8.350706],\n",
       "       [10.000848]], dtype=float32)"
      ]
     },
     "execution_count": 11,
     "metadata": {},
     "output_type": "execute_result"
    }
   ],
   "source": [
    "model.predict([20,24])"
   ]
  }
 ],
 "metadata": {
  "interpreter": {
   "hash": "31f2aee4e71d21fbe5cf8b01ff0e069b9275f58929596ceb00d14d90e3e16cd6"
  },
  "kernelspec": {
   "display_name": "Python 3.8.9 64-bit",
   "language": "python",
   "name": "python3"
  },
  "language_info": {
   "codemirror_mode": {
    "name": "ipython",
    "version": 3
   },
   "file_extension": ".py",
   "mimetype": "text/x-python",
   "name": "python",
   "nbconvert_exporter": "python",
   "pygments_lexer": "ipython3",
   "version": "3.8.9"
  },
  "orig_nbformat": 4
 },
 "nbformat": 4,
 "nbformat_minor": 2
}
