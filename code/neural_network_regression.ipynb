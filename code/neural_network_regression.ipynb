{
 "cells": [
  {
   "cell_type": "code",
   "execution_count": 2,
   "metadata": {},
   "outputs": [],
   "source": [
    "import tensorflow as tf\n",
    "import numpy as np\n",
    "import matplotlib.pyplot as plt\n"
   ]
  },
  {
   "cell_type": "code",
   "execution_count": 3,
   "metadata": {},
   "outputs": [
    {
     "data": {
      "text/plain": [
       "<matplotlib.collections.PathCollection at 0x1553d7eb0>"
      ]
     },
     "execution_count": 3,
     "metadata": {},
     "output_type": "execute_result"
    },
    {
     "data": {
      "image/png": "[encoded data removed]",
      "text/plain": [
       "<Figure size 432x288 with 1 Axes>"
      ]
     },
     "metadata": {
      "needs_background": "light"
     },
     "output_type": "display_data"
    }
   ],
   "source": [
    "\n",
    "x = np.array([1, 2, 3, 4, 5, 6, 7, 8, 9, 10,12,34,23,23,12,4,5,67,43,26,78], dtype=np.float32)\n",
    "y = x+10\n",
    "\n",
    "plt.scatter(x,y)"
   ]
  },
  {
   "cell_type": "code",
   "execution_count": 4,
   "metadata": {},
   "outputs": [
    {
     "name": "stdout",
     "output_type": "stream",
     "text": [
      "Epoch 1/100\n"
     ]
    },
    {
     "name": "stderr",
     "output_type": "stream",
     "text": [
      "2022-05-29 19:18:30.333053: I tensorflow/core/platform/cpu_feature_guard.cc:193] This TensorFlow binary is optimized with oneAPI Deep Neural Network Library (oneDNN) to use the following CPU instructions in performance-critical operations:  AVX2 FMA\n",
      "To enable them in other operations, rebuild TensorFlow with the appropriate compiler flags.\n"
     ]
    },
    {
     "name": "stdout",
     "output_type": "stream",
     "text": [
      "1/1 [==============================] - 0s 276ms/step - loss: 30.6910 - mae: 30.6910\n",
      "Epoch 2/100\n",
      "1/1 [==============================] - 0s 3ms/step - loss: 27.3721 - mae: 27.3721\n",
      "Epoch 3/100\n",
      "1/1 [==============================] - 0s 2ms/step - loss: 24.0532 - mae: 24.0532\n",
      "Epoch 4/100\n",
      "1/1 [==============================] - 0s 3ms/step - loss: 20.7342 - mae: 20.7342\n",
      "Epoch 5/100\n",
      "1/1 [==============================] - 0s 3ms/step - loss: 17.4153 - mae: 17.4153\n",
      "Epoch 6/100\n",
      "1/1 [==============================] - 0s 3ms/step - loss: 14.0964 - mae: 14.0964\n",
      "Epoch 7/100\n",
      "1/1 [==============================] - 0s 3ms/step - loss: 10.7774 - mae: 10.7774\n",
      "Epoch 8/100\n",
      "1/1 [==============================] - 0s 3ms/step - loss: 7.5221 - mae: 7.5221\n",
      "Epoch 9/100\n",
      "1/1 [==============================] - 0s 3ms/step - loss: 7.0168 - mae: 7.0168\n",
      "Epoch 10/100\n",
      "1/1 [==============================] - 0s 3ms/step - loss: 7.0109 - mae: 7.0109\n",
      "Epoch 11/100\n",
      "1/1 [==============================] - 0s 3ms/step - loss: 7.0050 - mae: 7.0050\n",
      "Epoch 12/100\n",
      "1/1 [==============================] - 0s 4ms/step - loss: 6.9991 - mae: 6.9991\n",
      "Epoch 13/100\n",
      "1/1 [==============================] - 0s 5ms/step - loss: 6.9932 - mae: 6.9932\n",
      "Epoch 14/100\n",
      "1/1 [==============================] - 0s 4ms/step - loss: 6.9872 - mae: 6.9872\n",
      "Epoch 15/100\n",
      "1/1 [==============================] - 0s 9ms/step - loss: 6.9813 - mae: 6.9813\n",
      "Epoch 16/100\n",
      "1/1 [==============================] - 0s 6ms/step - loss: 6.9754 - mae: 6.9754\n",
      "Epoch 17/100\n",
      "1/1 [==============================] - 0s 4ms/step - loss: 6.9695 - mae: 6.9695\n",
      "Epoch 18/100\n",
      "1/1 [==============================] - 0s 4ms/step - loss: 6.9636 - mae: 6.9636\n",
      "Epoch 19/100\n",
      "1/1 [==============================] - 0s 5ms/step - loss: 6.9576 - mae: 6.9576\n",
      "Epoch 20/100\n",
      "1/1 [==============================] - 0s 5ms/step - loss: 6.9517 - mae: 6.9517\n",
      "Epoch 21/100\n",
      "1/1 [==============================] - 0s 5ms/step - loss: 6.9458 - mae: 6.9458\n",
      "Epoch 22/100\n",
      "1/1 [==============================] - 0s 4ms/step - loss: 6.9399 - mae: 6.9399\n",
      "Epoch 23/100\n",
      "1/1 [==============================] - 0s 5ms/step - loss: 6.9340 - mae: 6.9340\n",
      "Epoch 24/100\n",
      "1/1 [==============================] - 0s 7ms/step - loss: 6.9281 - mae: 6.9281\n",
      "Epoch 25/100\n",
      "1/1 [==============================] - 0s 4ms/step - loss: 6.9246 - mae: 6.9246\n",
      "Epoch 26/100\n",
      "1/1 [==============================] - 0s 4ms/step - loss: 6.9261 - mae: 6.9261\n",
      "Epoch 27/100\n",
      "1/1 [==============================] - 0s 4ms/step - loss: 6.9202 - mae: 6.9202\n",
      "Epoch 28/100\n",
      "1/1 [==============================] - 0s 4ms/step - loss: 6.9143 - mae: 6.9143\n",
      "Epoch 29/100\n",
      "1/1 [==============================] - 0s 4ms/step - loss: 6.9084 - mae: 6.9084\n",
      "Epoch 30/100\n",
      "1/1 [==============================] - 0s 6ms/step - loss: 6.9025 - mae: 6.9025\n",
      "Epoch 31/100\n",
      "1/1 [==============================] - 0s 3ms/step - loss: 6.8966 - mae: 6.8966\n",
      "Epoch 32/100\n",
      "1/1 [==============================] - 0s 4ms/step - loss: 6.8906 - mae: 6.8906\n",
      "Epoch 33/100\n",
      "1/1 [==============================] - 0s 3ms/step - loss: 6.8847 - mae: 6.8847\n",
      "Epoch 34/100\n",
      "1/1 [==============================] - 0s 4ms/step - loss: 6.8788 - mae: 6.8788\n",
      "Epoch 35/100\n",
      "1/1 [==============================] - 0s 5ms/step - loss: 6.8729 - mae: 6.8729\n",
      "Epoch 36/100\n",
      "1/1 [==============================] - 0s 4ms/step - loss: 6.8738 - mae: 6.8738\n",
      "Epoch 37/100\n",
      "1/1 [==============================] - 0s 5ms/step - loss: 6.8710 - mae: 6.8710\n",
      "Epoch 38/100\n",
      "1/1 [==============================] - 0s 7ms/step - loss: 6.8651 - mae: 6.8651\n",
      "Epoch 39/100\n",
      "1/1 [==============================] - 0s 3ms/step - loss: 6.8591 - mae: 6.8591\n",
      "Epoch 40/100\n",
      "1/1 [==============================] - 0s 3ms/step - loss: 6.8532 - mae: 6.8532\n",
      "Epoch 41/100\n",
      "1/1 [==============================] - 0s 4ms/step - loss: 6.8473 - mae: 6.8473\n",
      "Epoch 42/100\n",
      "1/1 [==============================] - 0s 5ms/step - loss: 6.8414 - mae: 6.8414\n",
      "Epoch 43/100\n",
      "1/1 [==============================] - 0s 4ms/step - loss: 6.8355 - mae: 6.8355\n",
      "Epoch 44/100\n",
      "1/1 [==============================] - 0s 4ms/step - loss: 6.8295 - mae: 6.8295\n",
      "Epoch 45/100\n",
      "1/1 [==============================] - 0s 5ms/step - loss: 6.8236 - mae: 6.8236\n",
      "Epoch 46/100\n",
      "1/1 [==============================] - 0s 4ms/step - loss: 6.8189 - mae: 6.8189\n",
      "Epoch 47/100\n",
      "1/1 [==============================] - 0s 4ms/step - loss: 6.8217 - mae: 6.8217\n",
      "Epoch 48/100\n",
      "1/1 [==============================] - 0s 5ms/step - loss: 6.8158 - mae: 6.8158\n",
      "Epoch 49/100\n",
      "1/1 [==============================] - 0s 5ms/step - loss: 6.8099 - mae: 6.8099\n",
      "Epoch 50/100\n",
      "1/1 [==============================] - 0s 4ms/step - loss: 6.8040 - mae: 6.8040\n",
      "Epoch 51/100\n",
      "1/1 [==============================] - 0s 3ms/step - loss: 6.7981 - mae: 6.7981\n",
      "Epoch 52/100\n",
      "1/1 [==============================] - 0s 13ms/step - loss: 6.7921 - mae: 6.7921\n",
      "Epoch 53/100\n",
      "1/1 [==============================] - 0s 7ms/step - loss: 6.7862 - mae: 6.7862\n",
      "Epoch 54/100\n",
      "1/1 [==============================] - 0s 4ms/step - loss: 6.7803 - mae: 6.7803\n",
      "Epoch 55/100\n",
      "1/1 [==============================] - 0s 3ms/step - loss: 6.7744 - mae: 6.7744\n",
      "Epoch 56/100\n",
      "1/1 [==============================] - 0s 5ms/step - loss: 6.7685 - mae: 6.7685\n",
      "Epoch 57/100\n",
      "1/1 [==============================] - 0s 4ms/step - loss: 6.7680 - mae: 6.7680\n",
      "Epoch 58/100\n",
      "1/1 [==============================] - 0s 5ms/step - loss: 6.7666 - mae: 6.7666\n",
      "Epoch 59/100\n",
      "1/1 [==============================] - 0s 3ms/step - loss: 6.7606 - mae: 6.7606\n",
      "Epoch 60/100\n",
      "1/1 [==============================] - 0s 3ms/step - loss: 6.7547 - mae: 6.7547\n",
      "Epoch 61/100\n",
      "1/1 [==============================] - 0s 4ms/step - loss: 6.7488 - mae: 6.7488\n",
      "Epoch 62/100\n",
      "1/1 [==============================] - 0s 3ms/step - loss: 6.7429 - mae: 6.7429\n",
      "Epoch 63/100\n",
      "1/1 [==============================] - 0s 4ms/step - loss: 6.7370 - mae: 6.7370\n",
      "Epoch 64/100\n",
      "1/1 [==============================] - 0s 4ms/step - loss: 6.7310 - mae: 6.7310\n",
      "Epoch 65/100\n",
      "1/1 [==============================] - 0s 3ms/step - loss: 6.7251 - mae: 6.7251\n",
      "Epoch 66/100\n",
      "1/1 [==============================] - 0s 4ms/step - loss: 6.7192 - mae: 6.7192\n",
      "Epoch 67/100\n",
      "1/1 [==============================] - 0s 4ms/step - loss: 6.7133 - mae: 6.7133\n",
      "Epoch 68/100\n",
      "1/1 [==============================] - 0s 4ms/step - loss: 6.7172 - mae: 6.7172\n",
      "Epoch 69/100\n",
      "1/1 [==============================] - 0s 4ms/step - loss: 6.7114 - mae: 6.7114\n",
      "Epoch 70/100\n",
      "1/1 [==============================] - 0s 5ms/step - loss: 6.7055 - mae: 6.7055\n",
      "Epoch 71/100\n",
      "1/1 [==============================] - 0s 3ms/step - loss: 6.6995 - mae: 6.6995\n",
      "Epoch 72/100\n",
      "1/1 [==============================] - 0s 5ms/step - loss: 6.6936 - mae: 6.6936\n",
      "Epoch 73/100\n",
      "1/1 [==============================] - 0s 4ms/step - loss: 6.6877 - mae: 6.6877\n",
      "Epoch 74/100\n",
      "1/1 [==============================] - 0s 3ms/step - loss: 6.6818 - mae: 6.6818\n",
      "Epoch 75/100\n",
      "1/1 [==============================] - 0s 5ms/step - loss: 6.6759 - mae: 6.6759\n",
      "Epoch 76/100\n",
      "1/1 [==============================] - 0s 5ms/step - loss: 6.6700 - mae: 6.6700\n",
      "Epoch 77/100\n",
      "1/1 [==============================] - 0s 4ms/step - loss: 6.6640 - mae: 6.6640\n",
      "Epoch 78/100\n",
      "1/1 [==============================] - 0s 4ms/step - loss: 6.6623 - mae: 6.6623\n",
      "Epoch 79/100\n",
      "1/1 [==============================] - 0s 4ms/step - loss: 6.6621 - mae: 6.6621\n",
      "Epoch 80/100\n",
      "1/1 [==============================] - 0s 5ms/step - loss: 6.6562 - mae: 6.6562\n",
      "Epoch 81/100\n",
      "1/1 [==============================] - 0s 3ms/step - loss: 6.6503 - mae: 6.6503\n",
      "Epoch 82/100\n",
      "1/1 [==============================] - 0s 4ms/step - loss: 6.6444 - mae: 6.6444\n",
      "Epoch 83/100\n",
      "1/1 [==============================] - 0s 4ms/step - loss: 6.6385 - mae: 6.6385\n",
      "Epoch 84/100\n",
      "1/1 [==============================] - 0s 4ms/step - loss: 6.6325 - mae: 6.6325\n",
      "Epoch 85/100\n",
      "1/1 [==============================] - 0s 35ms/step - loss: 6.6266 - mae: 6.6266\n",
      "Epoch 86/100\n",
      "1/1 [==============================] - 0s 5ms/step - loss: 6.6207 - mae: 6.6207\n",
      "Epoch 87/100\n",
      "1/1 [==============================] - 0s 5ms/step - loss: 6.6148 - mae: 6.6148\n",
      "Epoch 88/100\n",
      "1/1 [==============================] - 0s 4ms/step - loss: 6.6089 - mae: 6.6089\n",
      "Epoch 89/100\n",
      "1/1 [==============================] - 0s 4ms/step - loss: 6.6114 - mae: 6.6114\n",
      "Epoch 90/100\n",
      "1/1 [==============================] - 0s 5ms/step - loss: 6.6070 - mae: 6.6070\n",
      "Epoch 91/100\n",
      "1/1 [==============================] - 0s 3ms/step - loss: 6.6010 - mae: 6.6010\n",
      "Epoch 92/100\n",
      "1/1 [==============================] - 0s 4ms/step - loss: 6.5951 - mae: 6.5951\n",
      "Epoch 93/100\n",
      "1/1 [==============================] - 0s 4ms/step - loss: 6.5892 - mae: 6.5892\n",
      "Epoch 94/100\n",
      "1/1 [==============================] - 0s 4ms/step - loss: 6.5833 - mae: 6.5833\n",
      "Epoch 95/100\n",
      "1/1 [==============================] - 0s 3ms/step - loss: 6.5774 - mae: 6.5774\n",
      "Epoch 96/100\n",
      "1/1 [==============================] - 0s 4ms/step - loss: 6.5715 - mae: 6.5715\n",
      "Epoch 97/100\n",
      "1/1 [==============================] - 0s 4ms/step - loss: 6.5655 - mae: 6.5655\n",
      "Epoch 98/100\n",
      "1/1 [==============================] - 0s 4ms/step - loss: 6.5596 - mae: 6.5596\n",
      "Epoch 99/100\n",
      "1/1 [==============================] - 0s 5ms/step - loss: 6.5565 - mae: 6.5565\n",
      "Epoch 100/100\n",
      "1/1 [==============================] - 0s 3ms/step - loss: 6.5577 - mae: 6.5577\n"
     ]
    },
    {
     "data": {
      "text/plain": [
       "<keras.callbacks.History at 0x155636910>"
      ]
     },
     "execution_count": 4,
     "metadata": {},
     "output_type": "execute_result"
    }
   ],
   "source": [
    "tf.random.set_seed(22)\n",
    "model = tf.keras.Sequential([\n",
    "    tf.keras.layers.Dense(units=1, input_shape=[1])\n",
    "    ])\n",
    "model.compile(loss=tf.keras.losses.mae, \n",
    "optimizer= tf.keras.optimizers.SGD(),\n",
    "metrics=['mae'])\n",
    "\n",
    "model.fit(x, y, epochs=100)"
   ]
  },
  {
   "cell_type": "code",
   "execution_count": 5,
   "metadata": {},
   "outputs": [
    {
     "name": "stdout",
     "output_type": "stream",
     "text": [
      "Epoch 1/100\n",
      "1/1 [==============================] - 0s 375ms/step - loss: 27.5827 - mae: 27.5827\n",
      "Epoch 2/100\n",
      "1/1 [==============================] - 0s 4ms/step - loss: 22.8404 - mae: 22.8404\n",
      "Epoch 3/100\n",
      "1/1 [==============================] - 0s 4ms/step - loss: 18.0067 - mae: 18.0067\n",
      "Epoch 4/100\n",
      "1/1 [==============================] - 0s 4ms/step - loss: 12.4037 - mae: 12.4037\n",
      "Epoch 5/100\n",
      "1/1 [==============================] - 0s 4ms/step - loss: 6.8910 - mae: 6.8910\n",
      "Epoch 6/100\n",
      "1/1 [==============================] - 0s 4ms/step - loss: 9.2345 - mae: 9.2345\n",
      "Epoch 7/100\n",
      "1/1 [==============================] - 0s 4ms/step - loss: 11.2835 - mae: 11.2835\n",
      "Epoch 8/100\n",
      "1/1 [==============================] - 0s 4ms/step - loss: 11.4031 - mae: 11.4031\n",
      "Epoch 9/100\n",
      "1/1 [==============================] - 0s 3ms/step - loss: 10.2042 - mae: 10.2042\n",
      "Epoch 10/100\n",
      "1/1 [==============================] - 0s 4ms/step - loss: 8.5871 - mae: 8.5871\n",
      "Epoch 11/100\n",
      "1/1 [==============================] - 0s 3ms/step - loss: 6.8303 - mae: 6.8303\n",
      "Epoch 12/100\n",
      "1/1 [==============================] - 0s 5ms/step - loss: 6.5774 - mae: 6.5774\n",
      "Epoch 13/100\n",
      "1/1 [==============================] - 0s 4ms/step - loss: 7.8892 - mae: 7.8892\n",
      "Epoch 14/100\n",
      "1/1 [==============================] - 0s 5ms/step - loss: 8.3364 - mae: 8.3364\n",
      "Epoch 15/100\n",
      "1/1 [==============================] - 0s 5ms/step - loss: 7.5681 - mae: 7.5681\n",
      "Epoch 16/100\n",
      "1/1 [==============================] - 0s 4ms/step - loss: 6.4204 - mae: 6.4204\n",
      "Epoch 17/100\n",
      "1/1 [==============================] - 0s 5ms/step - loss: 6.1860 - mae: 6.1860\n",
      "Epoch 18/100\n",
      "1/1 [==============================] - 0s 4ms/step - loss: 6.4253 - mae: 6.4253\n",
      "Epoch 19/100\n",
      "1/1 [==============================] - 0s 5ms/step - loss: 6.8938 - mae: 6.8938\n",
      "Epoch 20/100\n",
      "1/1 [==============================] - 0s 5ms/step - loss: 6.9655 - mae: 6.9655\n",
      "Epoch 21/100\n",
      "1/1 [==============================] - 0s 4ms/step - loss: 6.6322 - mae: 6.6322\n",
      "Epoch 22/100\n",
      "1/1 [==============================] - 0s 4ms/step - loss: 6.0893 - mae: 6.0893\n",
      "Epoch 23/100\n",
      "1/1 [==============================] - 0s 5ms/step - loss: 5.8104 - mae: 5.8104\n",
      "Epoch 24/100\n",
      "1/1 [==============================] - 0s 6ms/step - loss: 5.8184 - mae: 5.8184\n",
      "Epoch 25/100\n",
      "1/1 [==============================] - 0s 5ms/step - loss: 5.9950 - mae: 5.9950\n",
      "Epoch 26/100\n",
      "1/1 [==============================] - 0s 5ms/step - loss: 6.1783 - mae: 6.1783\n",
      "Epoch 27/100\n",
      "1/1 [==============================] - 0s 5ms/step - loss: 5.8219 - mae: 5.8219\n",
      "Epoch 28/100\n",
      "1/1 [==============================] - 0s 5ms/step - loss: 5.4973 - mae: 5.4973\n",
      "Epoch 29/100\n",
      "1/1 [==============================] - 0s 4ms/step - loss: 5.3966 - mae: 5.3966\n",
      "Epoch 30/100\n",
      "1/1 [==============================] - 0s 5ms/step - loss: 5.4116 - mae: 5.4116\n",
      "Epoch 31/100\n",
      "1/1 [==============================] - 0s 4ms/step - loss: 5.4053 - mae: 5.4053\n",
      "Epoch 32/100\n",
      "1/1 [==============================] - 0s 4ms/step - loss: 5.3434 - mae: 5.3434\n",
      "Epoch 33/100\n",
      "1/1 [==============================] - 0s 5ms/step - loss: 5.2377 - mae: 5.2377\n",
      "Epoch 34/100\n",
      "1/1 [==============================] - 0s 4ms/step - loss: 5.1277 - mae: 5.1277\n",
      "Epoch 35/100\n",
      "1/1 [==============================] - 0s 5ms/step - loss: 5.0028 - mae: 5.0028\n",
      "Epoch 36/100\n",
      "1/1 [==============================] - 0s 4ms/step - loss: 4.9224 - mae: 4.9224\n",
      "Epoch 37/100\n",
      "1/1 [==============================] - 0s 5ms/step - loss: 4.8853 - mae: 4.8853\n",
      "Epoch 38/100\n",
      "1/1 [==============================] - 0s 6ms/step - loss: 4.8210 - mae: 4.8210\n",
      "Epoch 39/100\n",
      "1/1 [==============================] - 0s 4ms/step - loss: 4.7023 - mae: 4.7023\n",
      "Epoch 40/100\n",
      "1/1 [==============================] - 0s 4ms/step - loss: 4.5884 - mae: 4.5884\n",
      "Epoch 41/100\n",
      "1/1 [==============================] - 0s 4ms/step - loss: 4.5603 - mae: 4.5603\n",
      "Epoch 42/100\n",
      "1/1 [==============================] - 0s 4ms/step - loss: 4.5004 - mae: 4.5004\n",
      "Epoch 43/100\n",
      "1/1 [==============================] - 0s 4ms/step - loss: 4.4209 - mae: 4.4209\n",
      "Epoch 44/100\n",
      "1/1 [==============================] - 0s 3ms/step - loss: 4.3238 - mae: 4.3238\n",
      "Epoch 45/100\n",
      "1/1 [==============================] - 0s 4ms/step - loss: 4.2100 - mae: 4.2100\n",
      "Epoch 46/100\n",
      "1/1 [==============================] - 0s 4ms/step - loss: 4.0837 - mae: 4.0837\n",
      "Epoch 47/100\n",
      "1/1 [==============================] - 0s 4ms/step - loss: 3.9675 - mae: 3.9675\n",
      "Epoch 48/100\n",
      "1/1 [==============================] - 0s 4ms/step - loss: 3.8863 - mae: 3.8863\n",
      "Epoch 49/100\n",
      "1/1 [==============================] - 0s 4ms/step - loss: 3.7889 - mae: 3.7889\n",
      "Epoch 50/100\n",
      "1/1 [==============================] - 0s 4ms/step - loss: 3.6738 - mae: 3.6738\n",
      "Epoch 51/100\n",
      "1/1 [==============================] - 0s 4ms/step - loss: 3.5406 - mae: 3.5406\n",
      "Epoch 52/100\n",
      "1/1 [==============================] - 0s 5ms/step - loss: 3.4060 - mae: 3.4060\n",
      "Epoch 53/100\n",
      "1/1 [==============================] - 0s 4ms/step - loss: 3.2912 - mae: 3.2912\n",
      "Epoch 54/100\n",
      "1/1 [==============================] - 0s 4ms/step - loss: 3.1563 - mae: 3.1563\n",
      "Epoch 55/100\n",
      "1/1 [==============================] - 0s 4ms/step - loss: 3.0007 - mae: 3.0007\n",
      "Epoch 56/100\n",
      "1/1 [==============================] - 0s 5ms/step - loss: 2.8611 - mae: 2.8611\n",
      "Epoch 57/100\n",
      "1/1 [==============================] - 0s 4ms/step - loss: 2.7036 - mae: 2.7036\n",
      "Epoch 58/100\n",
      "1/1 [==============================] - 0s 4ms/step - loss: 2.5112 - mae: 2.5112\n",
      "Epoch 59/100\n",
      "1/1 [==============================] - 0s 5ms/step - loss: 2.3560 - mae: 2.3560\n",
      "Epoch 60/100\n",
      "1/1 [==============================] - 0s 3ms/step - loss: 2.1812 - mae: 2.1812\n",
      "Epoch 61/100\n",
      "1/1 [==============================] - 0s 9ms/step - loss: 1.9097 - mae: 1.9097\n",
      "Epoch 62/100\n",
      "1/1 [==============================] - 0s 7ms/step - loss: 1.6863 - mae: 1.6863\n",
      "Epoch 63/100\n",
      "1/1 [==============================] - 0s 5ms/step - loss: 1.3140 - mae: 1.3140\n",
      "Epoch 64/100\n",
      "1/1 [==============================] - 0s 4ms/step - loss: 1.0743 - mae: 1.0743\n",
      "Epoch 65/100\n",
      "1/1 [==============================] - 0s 5ms/step - loss: 0.8490 - mae: 0.8490\n",
      "Epoch 66/100\n",
      "1/1 [==============================] - 0s 7ms/step - loss: 1.3970 - mae: 1.3970\n",
      "Epoch 67/100\n",
      "1/1 [==============================] - 0s 22ms/step - loss: 0.5540 - mae: 0.5540\n",
      "Epoch 68/100\n",
      "1/1 [==============================] - 0s 19ms/step - loss: 2.4075 - mae: 2.4075\n",
      "Epoch 69/100\n",
      "1/1 [==============================] - 0s 8ms/step - loss: 2.7600 - mae: 2.7600\n",
      "Epoch 70/100\n",
      "1/1 [==============================] - 0s 5ms/step - loss: 1.2384 - mae: 1.2384\n",
      "Epoch 71/100\n",
      "1/1 [==============================] - 0s 7ms/step - loss: 2.0005 - mae: 2.0005\n",
      "Epoch 72/100\n",
      "1/1 [==============================] - 0s 5ms/step - loss: 2.6912 - mae: 2.6912\n",
      "Epoch 73/100\n",
      "1/1 [==============================] - 0s 7ms/step - loss: 1.2418 - mae: 1.2418\n",
      "Epoch 74/100\n",
      "1/1 [==============================] - 0s 5ms/step - loss: 1.8623 - mae: 1.8623\n",
      "Epoch 75/100\n",
      "1/1 [==============================] - 0s 5ms/step - loss: 2.9375 - mae: 2.9375\n",
      "Epoch 76/100\n",
      "1/1 [==============================] - 0s 4ms/step - loss: 2.5642 - mae: 2.5642\n",
      "Epoch 77/100\n",
      "1/1 [==============================] - 0s 6ms/step - loss: 1.0195 - mae: 1.0195\n",
      "Epoch 78/100\n",
      "1/1 [==============================] - 0s 5ms/step - loss: 2.1085 - mae: 2.1085\n",
      "Epoch 79/100\n",
      "1/1 [==============================] - 0s 5ms/step - loss: 2.9934 - mae: 2.9934\n",
      "Epoch 80/100\n",
      "1/1 [==============================] - 0s 5ms/step - loss: 2.0802 - mae: 2.0802\n",
      "Epoch 81/100\n",
      "1/1 [==============================] - 0s 5ms/step - loss: 0.4185 - mae: 0.4185\n",
      "Epoch 82/100\n",
      "1/1 [==============================] - 0s 5ms/step - loss: 1.1758 - mae: 1.1758\n",
      "Epoch 83/100\n",
      "1/1 [==============================] - 0s 6ms/step - loss: 0.7119 - mae: 0.7119\n",
      "Epoch 84/100\n",
      "1/1 [==============================] - 0s 6ms/step - loss: 1.0367 - mae: 1.0367\n",
      "Epoch 85/100\n",
      "1/1 [==============================] - 0s 6ms/step - loss: 1.1665 - mae: 1.1665\n",
      "Epoch 86/100\n",
      "1/1 [==============================] - 0s 5ms/step - loss: 0.4590 - mae: 0.4590\n",
      "Epoch 87/100\n",
      "1/1 [==============================] - 0s 5ms/step - loss: 1.2463 - mae: 1.2463\n",
      "Epoch 88/100\n",
      "1/1 [==============================] - 0s 6ms/step - loss: 1.0596 - mae: 1.0596\n",
      "Epoch 89/100\n",
      "1/1 [==============================] - 0s 6ms/step - loss: 0.5878 - mae: 0.5878\n",
      "Epoch 90/100\n",
      "1/1 [==============================] - 0s 5ms/step - loss: 1.0620 - mae: 1.0620\n",
      "Epoch 91/100\n",
      "1/1 [==============================] - 0s 8ms/step - loss: 0.5953 - mae: 0.5953\n",
      "Epoch 92/100\n",
      "1/1 [==============================] - 0s 6ms/step - loss: 0.6835 - mae: 0.6835\n",
      "Epoch 93/100\n",
      "1/1 [==============================] - 0s 5ms/step - loss: 0.5016 - mae: 0.5016\n",
      "Epoch 94/100\n",
      "1/1 [==============================] - 0s 5ms/step - loss: 0.3808 - mae: 0.3808\n",
      "Epoch 95/100\n",
      "1/1 [==============================] - 0s 4ms/step - loss: 0.5842 - mae: 0.5842\n",
      "Epoch 96/100\n",
      "1/1 [==============================] - 0s 6ms/step - loss: 0.3363 - mae: 0.3363\n",
      "Epoch 97/100\n",
      "1/1 [==============================] - 0s 5ms/step - loss: 0.7428 - mae: 0.7428\n",
      "Epoch 98/100\n",
      "1/1 [==============================] - 0s 4ms/step - loss: 0.2248 - mae: 0.2248\n",
      "Epoch 99/100\n",
      "1/1 [==============================] - 0s 5ms/step - loss: 0.8362 - mae: 0.8362\n",
      "Epoch 100/100\n",
      "1/1 [==============================] - 0s 4ms/step - loss: 0.2747 - mae: 0.2747\n"
     ]
    },
    {
     "data": {
      "text/plain": [
       "<keras.callbacks.History at 0x15589cd90>"
      ]
     },
     "execution_count": 5,
     "metadata": {},
     "output_type": "execute_result"
    }
   ],
   "source": [
    "model2 = tf.keras.Sequential([\n",
    "    tf.keras.layers.Dense(100, activation='relu', input_shape=[1]),\n",
    "    tf.keras.layers.Dense(100, activation='relu', input_shape=[1]),\n",
    "    tf.keras.layers.Dense(100, activation='relu', input_shape=[1]),\n",
    "    tf.keras.layers.Dense(1)\n",
    "    ])\n",
    "    \n",
    "model2.compile(\n",
    "    loss=tf.keras.losses.mae, \n",
    "    optimizer= tf.keras.optimizers.Adam(learning_rate=0.0045),\n",
    "    metrics=['mae'])\n",
    "\n",
    "model2.fit(x, y, epochs=100)"
   ]
  },
  {
   "cell_type": "code",
   "execution_count": 6,
   "metadata": {},
   "outputs": [
    {
     "name": "stdout",
     "output_type": "stream",
     "text": [
      "1/1 [==============================] - 0s 80ms/step\n",
      "1/1 [==============================] - 0s 65ms/step\n"
     ]
    },
    {
     "data": {
      "text/plain": [
       "(array([[25.674433],\n",
       "        [30.663607]], dtype=float32),\n",
       " array([[28.356266],\n",
       "        [32.04074 ]], dtype=float32))"
      ]
     },
     "execution_count": 6,
     "metadata": {},
     "output_type": "execute_result"
    }
   ],
   "source": [
    "model.predict([20,24]), model2.predict([20,24])"
   ]
  },
  {
   "cell_type": "code",
   "execution_count": 7,
   "metadata": {},
   "outputs": [
    {
     "data": {
      "text/plain": [
       "<matplotlib.collections.PathCollection at 0x15580cf70>"
      ]
     },
     "execution_count": 7,
     "metadata": {},
     "output_type": "execute_result"
    },
    {
     "data": {
      "image/png": "[encoded data removed]",
      "text/plain": [
       "<Figure size 432x288 with 1 Axes>"
      ]
     },
     "metadata": {
      "needs_background": "light"
     },
     "output_type": "display_data"
    }
   ],
   "source": [
    "datax = tf.range(-100,100,5)\n",
    "datay = datax + 10\n",
    "\n",
    "plt.scatter(datax,datay)"
   ]
  },
  {
   "cell_type": "code",
   "execution_count": 8,
   "metadata": {},
   "outputs": [
    {
     "data": {
      "text/plain": [
       "<matplotlib.collections.PathCollection at 0x155f3f190>"
      ]
     },
     "execution_count": 8,
     "metadata": {},
     "output_type": "execute_result"
    },
    {
     "data": {
      "image/png": "[encoded data removed]",
      "text/plain": [
       "<Figure size 720x504 with 1 Axes>"
      ]
     },
     "metadata": {
      "needs_background": "light"
     },
     "output_type": "display_data"
    }
   ],
   "source": [
    "train_x = datax[:30]\n",
    "train_y = datay[:30]\n",
    "\n",
    "test_x = datax[30:]\n",
    "test_y = datay[30:]\n",
    "\n",
    "plt.figure(figsize=(10,7))\n",
    "plt.scatter(train_x,train_y, c='blue', label='train data')\n",
    "plt.scatter(test_x,test_y, c='green', label='test data')"
   ]
  },
  {
   "cell_type": "code",
   "execution_count": 9,
   "metadata": {},
   "outputs": [
    {
     "name": "stdout",
     "output_type": "stream",
     "text": [
      "Model: \"sequential\"\n",
      "_________________________________________________________________\n",
      " Layer (type)                Output Shape              Param #   \n",
      "=================================================================\n",
      " dense (Dense)               (None, 1)                 2         \n",
      "                                                                 \n",
      "=================================================================\n",
      "Total params: 2\n",
      "Trainable params: 2\n",
      "Non-trainable params: 0\n",
      "_________________________________________________________________\n",
      "Model: \"sequential_1\"\n",
      "_________________________________________________________________\n",
      " Layer (type)                Output Shape              Param #   \n",
      "=================================================================\n",
      " dense_1 (Dense)             (None, 100)               200       \n",
      "                                                                 \n",
      " dense_2 (Dense)             (None, 100)               10100     \n",
      "                                                                 \n",
      " dense_3 (Dense)             (None, 100)               10100     \n",
      "                                                                 \n",
      " dense_4 (Dense)             (None, 1)                 101       \n",
      "                                                                 \n",
      "=================================================================\n",
      "Total params: 20,501\n",
      "Trainable params: 20,501\n",
      "Non-trainable params: 0\n",
      "_________________________________________________________________\n"
     ]
    },
    {
     "data": {
      "text/plain": [
       "(None, None)"
      ]
     },
     "execution_count": 9,
     "metadata": {},
     "output_type": "execute_result"
    }
   ],
   "source": [
    "model.summary(), model2.summary()"
   ]
  },
  {
   "cell_type": "code",
   "execution_count": 14,
   "metadata": {},
   "outputs": [
    {
     "data": {
      "text/plain": [
       "(<IPython.core.display.Image object>, <IPython.core.display.Image object>)"
      ]
     },
     "execution_count": 14,
     "metadata": {},
     "output_type": "execute_result"
    }
   ],
   "source": [
    "from tensorflow.keras.utils import plot_model\n",
    "\n",
    "plot_model(model, to_file='model_plot.png',show_shapes=True, show_layer_names=True), plot_model(model2,  to_file='model2_plot.png',)\n"
   ]
  },
  {
   "cell_type": "code",
   "execution_count": 17,
   "metadata": {},
   "outputs": [],
   "source": [
    "def predict_evaluation_vis(train_x=train_x, train_y=train_y, test_x=test_x, test_y=test_y, pred_x=[], pred_y=[]):\n",
    "    plt.figure(figsize=(10,7))\n",
    "    plt.scatter(train_x,train_y, c='blue', label='train data')\n",
    "    plt.scatter(test_x,test_y, c='green', label='test data')\n",
    "    plt.scatter(pred_x, pred_y, c='red', label='prediction')\n",
    "    plt.legend()\n",
    "    plt.show()"
   ]
  },
  {
   "cell_type": "code",
   "execution_count": 18,
   "metadata": {},
   "outputs": [
    {
     "name": "stdout",
     "output_type": "stream",
     "text": [
      "1/1 [==============================] - 0s 23ms/step\n"
     ]
    },
    {
     "data": {
      "image/png": "[encoded data removed]",
      "text/plain": [
       "<Figure size 720x504 with 1 Axes>"
      ]
     },
     "metadata": {
      "needs_background": "light"
     },
     "output_type": "display_data"
    }
   ],
   "source": [
    "pre_x = np.array([23,55,67,90,120])\n",
    "pre_y = model.predict(pre_x)\n",
    "\n",
    "predict_evaluation_vis(pred_x=pre_x, pred_y=pre_y)"
   ]
  }
 ],
 "metadata": {
  "interpreter": {
   "hash": "31f2aee4e71d21fbe5cf8b01ff0e069b9275f58929596ceb00d14d90e3e16cd6"
  },
  "kernelspec": {
   "display_name": "Python 3.8.9 64-bit",
   "language": "python",
   "name": "python3"
  },
  "language_info": {
   "codemirror_mode": {
    "name": "ipython",
    "version": 3
   },
   "file_extension": ".py",
   "mimetype": "text/x-python",
   "name": "python",
   "nbconvert_exporter": "python",
   "pygments_lexer": "ipython3",
   "version": "3.8.9"
  },
  "orig_nbformat": 4
 },
 "nbformat": 4,
 "nbformat_minor": 2
}
