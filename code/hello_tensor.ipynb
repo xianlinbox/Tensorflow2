{
 "cells": [
  {
   "cell_type": "code",
   "execution_count": 2,
   "metadata": {},
   "outputs": [
    {
     "name": "stdout",
     "output_type": "stream",
     "text": [
      "2.9.0\n"
     ]
    }
   ],
   "source": [
    "import tensorflow as tf\n",
    "\n",
    "print(tf.__version__)"
   ]
  },
  {
   "cell_type": "code",
   "execution_count": 8,
   "metadata": {},
   "outputs": [
    {
     "name": "stdout",
     "output_type": "stream",
     "text": [
      "0\n",
      "1\n",
      "2\n",
      "3\n"
     ]
    }
   ],
   "source": [
    "scalar = tf.constant(7)\n",
    "print(scalar.ndim)\n",
    "\n",
    "vector = tf.constant([1, 2, 3], dtype=tf.float64)\n",
    "print(vector.ndim)\n",
    "\n",
    "matrix = tf.constant([[1, 2, 3], [4, 5, 6]])\n",
    "print(matrix.ndim)\n",
    "\n",
    "nd_tensor = tf.constant([[[1, 2, 3], [4, 5, 6]], [[7, 8, 9], [10, 11, 12]]])\n",
    "print(nd_tensor.ndim)"
   ]
  },
  {
   "cell_type": "markdown",
   "metadata": {},
   "source": [
    "Summarize:\n",
    "* Scalar is a number\n",
    "* Vector is a number with direction\n",
    "* matrix is 2 dimension array of numbers\n",
    "* tensor is an N-dimension array of numbers"
   ]
  },
  {
   "cell_type": "code",
   "execution_count": 4,
   "metadata": {},
   "outputs": [
    {
     "data": {
      "text/plain": [
       "<tf.Variable 'Variable:0' shape=(2,) dtype=int32, numpy=array([4, 3], dtype=int32)>"
      ]
     },
     "execution_count": 4,
     "metadata": {},
     "output_type": "execute_result"
    }
   ],
   "source": [
    "changable_tensor = tf.Variable([1,2])\n",
    "changable_tensor[1].assign(3)\n",
    "changable_tensor[0].assign(4)\n",
    "\n",
    "changable_tensor"
   ]
  },
  {
   "cell_type": "code",
   "execution_count": 9,
   "metadata": {},
   "outputs": [
    {
     "data": {
      "text/plain": [
       "(<tf.Tensor: shape=(2, 3), dtype=float32, numpy=\n",
       " array([[-0.90112925, -0.0175216 , -0.4188493 ],\n",
       "        [ 0.29532313,  0.08036723, -1.7199678 ]], dtype=float32)>,\n",
       " <tf.Tensor: shape=(2, 3), dtype=float32, numpy=\n",
       " array([[-0.29604465, -0.21134205,  0.01063002],\n",
       "        [ 1.5165398 ,  0.27305737, -0.29925638]], dtype=float32)>,\n",
       " <tf.Tensor: shape=(2, 3), dtype=bool, numpy=\n",
       " array([[False, False, False],\n",
       "        [False, False, False]])>)"
      ]
     },
     "execution_count": 9,
     "metadata": {},
     "output_type": "execute_result"
    }
   ],
   "source": [
    "random_1 = tf.random.Generator.from_seed(100)\n",
    "random_1 = random_1.normal([2, 3])\n",
    "random_2 = tf.random.Generator.from_seed(100)\n",
    "random_2 = random_2.normal([2, 3])\n",
    "random_1, random_2, random_1 == random_2"
   ]
  },
  {
   "cell_type": "code",
   "execution_count": 26,
   "metadata": {},
   "outputs": [
    {
     "data": {
      "text/plain": [
       "<tf.Tensor: shape=(3, 2), dtype=int32, numpy=\n",
       "array([[1, 2],\n",
       "       [4, 5],\n",
       "       [7, 8]], dtype=int32)>"
      ]
     },
     "execution_count": 26,
     "metadata": {},
     "output_type": "execute_result"
    }
   ],
   "source": [
    "origin = tf.constant([[1, 2],\n",
    "                      [4, 5],\n",
    "                      [7, 8],\n",
    "                      ]) \n",
    "\n",
    "shuffled = tf.random.shuffle(origin, seed=100)\n",
    "shuffled\n",
    "origin"
   ]
  },
  {
   "cell_type": "code",
   "execution_count": 59,
   "metadata": {},
   "outputs": [],
   "source": [
    "tf.random.set_seed(100)\n"
   ]
  },
  {
   "cell_type": "code",
   "execution_count": 67,
   "metadata": {},
   "outputs": [
    {
     "data": {
      "text/plain": [
       "<tf.Tensor: shape=(3, 2), dtype=int32, numpy=\n",
       "array([[4, 5],\n",
       "       [7, 8],\n",
       "       [1, 2]], dtype=int32)>"
      ]
     },
     "execution_count": 67,
     "metadata": {},
     "output_type": "execute_result"
    }
   ],
   "source": [
    "shuffled2 = tf.random.shuffle(origin,seed=100)\n",
    "\n",
    "shuffled2"
   ]
  },
  {
   "cell_type": "code",
   "execution_count": 69,
   "metadata": {},
   "outputs": [
    {
     "ename": "AttributeError",
     "evalue": "module 'tensorflow' has no attribute 'hunderd_ones'",
     "output_type": "error",
     "traceback": [
      "\u001b[0;31m---------------------------------------------------------------------------\u001b[0m",
      "\u001b[0;31mAttributeError\u001b[0m                            Traceback (most recent call last)",
      "\u001b[1;32m/Users/xianningliu/Documents/workspace/data_workspace/tensorflow2/code/hello_tensor.ipynb Cell 9'\u001b[0m in \u001b[0;36m<cell line: 3>\u001b[0;34m()\u001b[0m\n\u001b[1;32m      <a href='vscode-notebook-cell:/Users/xianningliu/Documents/workspace/data_workspace/tensorflow2/code/hello_tensor.ipynb#ch0000009?line=0'>1</a>\u001b[0m A\u001b[39m=\u001b[39m tf\u001b[39m.\u001b[39mones([\u001b[39m2\u001b[39m, \u001b[39m3\u001b[39m])\n\u001b[1;32m      <a href='vscode-notebook-cell:/Users/xianningliu/Documents/workspace/data_workspace/tensorflow2/code/hello_tensor.ipynb#ch0000009?line=1'>2</a>\u001b[0m B\u001b[39m=\u001b[39m tf\u001b[39m.\u001b[39mzeros([\u001b[39m3\u001b[39m, \u001b[39m2\u001b[39m])\n\u001b[0;32m----> <a href='vscode-notebook-cell:/Users/xianningliu/Documents/workspace/data_workspace/tensorflow2/code/hello_tensor.ipynb#ch0000009?line=2'>3</a>\u001b[0m C\u001b[39m=\u001b[39mtf\u001b[39m.\u001b[39;49mhunderd_ones([\u001b[39m2\u001b[39m, \u001b[39m3\u001b[39m])\n\u001b[1;32m      <a href='vscode-notebook-cell:/Users/xianningliu/Documents/workspace/data_workspace/tensorflow2/code/hello_tensor.ipynb#ch0000009?line=4'>5</a>\u001b[0m A,B,C\n",
      "\u001b[0;31mAttributeError\u001b[0m: module 'tensorflow' has no attribute 'hunderd_ones'"
     ]
    }
   ],
   "source": [
    "A= tf.ones([2, 3])\n",
    "B= tf.zeros([3, 2])\n",
    "\n",
    "A,B"
   ]
  },
  {
   "cell_type": "code",
   "execution_count": 77,
   "metadata": {},
   "outputs": [
    {
     "data": {
      "text/plain": [
       "(array([ 0,  1,  2,  3,  4,  5,  6,  7,  8,  9, 10, 11, 12, 13, 14, 15, 16,\n",
       "        17, 18, 19, 20, 21, 22, 23]),\n",
       " array([[ 0,  1,  2,  3,  4,  5,  6,  7],\n",
       "        [ 8,  9, 10, 11, 12, 13, 14, 15],\n",
       "        [16, 17, 18, 19, 20, 21, 22, 23]]))"
      ]
     },
     "execution_count": 77,
     "metadata": {},
     "output_type": "execute_result"
    }
   ],
   "source": [
    "import numpy as np\n",
    "\n",
    "npa = np.arange(24)\n",
    "npb = npa.reshape([3,8])\n",
    "\n",
    "npa,npb"
   ]
  },
  {
   "cell_type": "code",
   "execution_count": 79,
   "metadata": {},
   "outputs": [
    {
     "data": {
      "text/plain": [
       "(<tf.Tensor: shape=(24,), dtype=int64, numpy=\n",
       " array([ 0,  1,  2,  3,  4,  5,  6,  7,  8,  9, 10, 11, 12, 13, 14, 15, 16,\n",
       "        17, 18, 19, 20, 21, 22, 23])>,\n",
       " <tf.Tensor: shape=(2, 3, 4), dtype=int64, numpy=\n",
       " array([[[ 0,  1,  2,  3],\n",
       "         [ 4,  5,  6,  7],\n",
       "         [ 8,  9, 10, 11]],\n",
       " \n",
       "        [[12, 13, 14, 15],\n",
       "         [16, 17, 18, 19],\n",
       "         [20, 21, 22, 23]]])>,\n",
       " <tf.Tensor: shape=(), dtype=int32, numpy=24>)"
      ]
     },
     "execution_count": 79,
     "metadata": {},
     "output_type": "execute_result"
    }
   ],
   "source": [
    "ta = tf.constant(npa)\n",
    "tb = tf.constant(npa, shape=[2, 3, 4])\n",
    "size= tf.size(tb)\n",
    "ta,tb, size"
   ]
  },
  {
   "cell_type": "code",
   "execution_count": 89,
   "metadata": {},
   "outputs": [
    {
     "data": {
      "text/plain": [
       "(<tf.Tensor: shape=(2, 1), dtype=int32, numpy=\n",
       " array([[1],\n",
       "        [4]], dtype=int32)>,\n",
       " <tf.Tensor: shape=(), dtype=int32, numpy=3>)"
      ]
     },
     "execution_count": 89,
     "metadata": {},
     "output_type": "execute_result"
    }
   ],
   "source": [
    "original = tf.constant([[1, 2, 3], [4, 5, 6]])\n",
    "\n",
    "original[:2,:1]\n",
    "original[:2,:1], original[0][2]\n"
   ]
  },
  {
   "cell_type": "code",
   "execution_count": 97,
   "metadata": {},
   "outputs": [
    {
     "data": {
      "text/plain": [
       "(<tf.Tensor: shape=(2, 3, 1), dtype=int32, numpy=\n",
       " array([[[1],\n",
       "         [2],\n",
       "         [3]],\n",
       " \n",
       "        [[4],\n",
       "         [5],\n",
       "         [6]]], dtype=int32)>,\n",
       " <tf.Tensor: shape=(1, 2, 3), dtype=int32, numpy=\n",
       " array([[[1, 2, 3],\n",
       "         [4, 5, 6]]], dtype=int32)>,\n",
       " <tf.Tensor: shape=(1, 2, 3), dtype=int32, numpy=\n",
       " array([[[1, 2, 3],\n",
       "         [4, 5, 6]]], dtype=int32)>,\n",
       " <tf.Tensor: shape=(2, 1, 3), dtype=int32, numpy=\n",
       " array([[[1, 2, 3]],\n",
       " \n",
       "        [[4, 5, 6]]], dtype=int32)>,\n",
       " <tf.Tensor: shape=(2, 3, 1), dtype=int32, numpy=\n",
       " array([[[1],\n",
       "         [2],\n",
       "         [3]],\n",
       " \n",
       "        [[4],\n",
       "         [5],\n",
       "         [6]]], dtype=int32)>)"
      ]
     },
     "execution_count": 97,
     "metadata": {},
     "output_type": "execute_result"
    }
   ],
   "source": [
    "expand1 = original[..., tf.newaxis]\n",
    "expand2 = original[tf.newaxis, ...]\n",
    "expand3 = tf.expand_dims(original, axis=0)\n",
    "expand4 = tf.expand_dims(original, axis=1)\n",
    "expand5 = tf.expand_dims(original, axis=2)\n",
    "expand1, expand2, expand3, expand4, expand5"
   ]
  },
  {
   "cell_type": "code",
   "execution_count": 101,
   "metadata": {},
   "outputs": [
    {
     "data": {
      "text/plain": [
       "<tf.Tensor: shape=(2, 3), dtype=int32, numpy=\n",
       "array([[ 5, 10, 15],\n",
       "       [20, 25, 30]], dtype=int32)>"
      ]
     },
     "execution_count": 101,
     "metadata": {},
     "output_type": "execute_result"
    }
   ],
   "source": [
    "\n",
    "original +10\n",
    "original *10\n",
    "tf.multiply(original, 5)"
   ]
  },
  {
   "cell_type": "code",
   "execution_count": 107,
   "metadata": {},
   "outputs": [
    {
     "data": {
      "text/plain": [
       "<tf.Tensor: shape=(2, 2), dtype=int32, numpy=\n",
       "array([[30, 36],\n",
       "       [66, 81]], dtype=int32)>"
      ]
     },
     "execution_count": 107,
     "metadata": {},
     "output_type": "execute_result"
    }
   ],
   "source": [
    "origin2 = tf.constant([[1, 2], [4, 5],[7, 8]])\n",
    "tf.matmul(original, origin2)\n",
    "original @ origin2\n"
   ]
  },
  {
   "cell_type": "code",
   "execution_count": 112,
   "metadata": {},
   "outputs": [
    {
     "data": {
      "text/plain": [
       "<tf.Tensor: shape=(2, 2), dtype=int32, numpy=\n",
       "array([[14, 32],\n",
       "       [32, 77]], dtype=int32)>"
      ]
     },
     "execution_count": 112,
     "metadata": {},
     "output_type": "execute_result"
    }
   ],
   "source": [
    "tf.reshape(original, [3, 2]) @ original\n",
    "original\n",
    "original @ tf.transpose(original)"
   ]
  },
  {
   "cell_type": "code",
   "execution_count": 118,
   "metadata": {},
   "outputs": [
    {
     "data": {
      "text/plain": [
       "<tf.Tensor: shape=(2, 2), dtype=int32, numpy=\n",
       "array([[14, 32],\n",
       "       [32, 77]], dtype=int32)>"
      ]
     },
     "execution_count": 118,
     "metadata": {},
     "output_type": "execute_result"
    }
   ],
   "source": [
    "tf.tensordot( tf.transpose(original), original, axes=1)\n",
    "tf.tensordot( original, tf.transpose(original), axes=1)"
   ]
  },
  {
   "cell_type": "code",
   "execution_count": 119,
   "metadata": {},
   "outputs": [
    {
     "data": {
      "text/plain": [
       "(<tf.Tensor: shape=(2, 3), dtype=int32, numpy=\n",
       " array([[1, 2, 3],\n",
       "        [4, 5, 6]], dtype=int32)>,\n",
       " tf.int32)"
      ]
     },
     "execution_count": 119,
     "metadata": {},
     "output_type": "execute_result"
    }
   ],
   "source": [
    "original, original.dtype"
   ]
  },
  {
   "cell_type": "code",
   "execution_count": 120,
   "metadata": {},
   "outputs": [
    {
     "data": {
      "text/plain": [
       "<tf.Tensor: shape=(2, 3), dtype=float32, numpy=\n",
       "array([[1., 2., 3.],\n",
       "       [4., 5., 6.]], dtype=float32)>"
      ]
     },
     "execution_count": 120,
     "metadata": {},
     "output_type": "execute_result"
    }
   ],
   "source": [
    "tf.cast(original, tf.float32)"
   ]
  },
  {
   "cell_type": "code",
   "execution_count": 122,
   "metadata": {},
   "outputs": [
    {
     "data": {
      "text/plain": [
       "<tf.Tensor: shape=(20,), dtype=int64, numpy=\n",
       "array([770, 326, 672, 976, 909, 821, 971, 318, 258, 491,   4, 739, 349,\n",
       "        82, 993,   2, 292, 263,  16, 308])>"
      ]
     },
     "execution_count": 122,
     "metadata": {},
     "output_type": "execute_result"
    }
   ],
   "source": [
    "arr = tf.constant(np.random.randint(1,1000,size=20))\n",
    "arr"
   ]
  },
  {
   "cell_type": "code",
   "execution_count": 128,
   "metadata": {},
   "outputs": [
    {
     "data": {
      "text/plain": [
       "(<tf.Tensor: shape=(), dtype=int64, numpy=2>,\n",
       " <tf.Tensor: shape=(), dtype=int64, numpy=478>,\n",
       " <tf.Tensor: shape=(), dtype=int64, numpy=993>,\n",
       " <tf.Tensor: shape=(), dtype=int64, numpy=9560>)"
      ]
     },
     "execution_count": 128,
     "metadata": {},
     "output_type": "execute_result"
    }
   ],
   "source": [
    "tf.reduce_min(arr), tf.reduce_mean(arr), tf.reduce_max(arr), tf.reduce_sum(arr)"
   ]
  },
  {
   "cell_type": "code",
   "execution_count": 129,
   "metadata": {},
   "outputs": [
    {
     "ename": "TypeError",
     "evalue": "Input must be either real or complex. Received integer type <dtype: 'int64'>.",
     "output_type": "error",
     "traceback": [
      "\u001b[0;31m---------------------------------------------------------------------------\u001b[0m",
      "\u001b[0;31mTypeError\u001b[0m                                 Traceback (most recent call last)",
      "\u001b[1;32m/Users/xianningliu/Documents/workspace/data_workspace/tensorflow2/code/hello_tensor.ipynb Cell 22'\u001b[0m in \u001b[0;36m<cell line: 1>\u001b[0;34m()\u001b[0m\n\u001b[0;32m----> <a href='vscode-notebook-cell:/Users/xianningliu/Documents/workspace/data_workspace/tensorflow2/code/hello_tensor.ipynb#ch0000022?line=0'>1</a>\u001b[0m tf\u001b[39m.\u001b[39;49mmath\u001b[39m.\u001b[39;49mreduce_variance(arr), tf\u001b[39m.\u001b[39mmath\u001b[39m.\u001b[39mreduce_std(arr)\n",
      "File \u001b[0;32m~/Library/Python/3.8/lib/python/site-packages/tensorflow/python/util/traceback_utils.py:153\u001b[0m, in \u001b[0;36mfilter_traceback.<locals>.error_handler\u001b[0;34m(*args, **kwargs)\u001b[0m\n\u001b[1;32m    <a href='file:///Users/xianningliu/Library/Python/3.8/lib/python/site-packages/tensorflow/python/util/traceback_utils.py?line=150'>151</a>\u001b[0m \u001b[39mexcept\u001b[39;00m \u001b[39mException\u001b[39;00m \u001b[39mas\u001b[39;00m e:\n\u001b[1;32m    <a href='file:///Users/xianningliu/Library/Python/3.8/lib/python/site-packages/tensorflow/python/util/traceback_utils.py?line=151'>152</a>\u001b[0m   filtered_tb \u001b[39m=\u001b[39m _process_traceback_frames(e\u001b[39m.\u001b[39m__traceback__)\n\u001b[0;32m--> <a href='file:///Users/xianningliu/Library/Python/3.8/lib/python/site-packages/tensorflow/python/util/traceback_utils.py?line=152'>153</a>\u001b[0m   \u001b[39mraise\u001b[39;00m e\u001b[39m.\u001b[39mwith_traceback(filtered_tb) \u001b[39mfrom\u001b[39;00m \u001b[39mNone\u001b[39m\n\u001b[1;32m    <a href='file:///Users/xianningliu/Library/Python/3.8/lib/python/site-packages/tensorflow/python/util/traceback_utils.py?line=153'>154</a>\u001b[0m \u001b[39mfinally\u001b[39;00m:\n\u001b[1;32m    <a href='file:///Users/xianningliu/Library/Python/3.8/lib/python/site-packages/tensorflow/python/util/traceback_utils.py?line=154'>155</a>\u001b[0m   \u001b[39mdel\u001b[39;00m filtered_tb\n",
      "File \u001b[0;32m~/Library/Python/3.8/lib/python/site-packages/tensorflow/python/ops/math_ops.py:2693\u001b[0m, in \u001b[0;36mreduce_variance\u001b[0;34m(input_tensor, axis, keepdims, name)\u001b[0m\n\u001b[1;32m   <a href='file:///Users/xianningliu/Library/Python/3.8/lib/python/site-packages/tensorflow/python/ops/math_ops.py?line=2690'>2691</a>\u001b[0m means \u001b[39m=\u001b[39m reduce_mean(input_tensor, axis\u001b[39m=\u001b[39maxis, keepdims\u001b[39m=\u001b[39m\u001b[39mTrue\u001b[39;00m)\n\u001b[1;32m   <a href='file:///Users/xianningliu/Library/Python/3.8/lib/python/site-packages/tensorflow/python/ops/math_ops.py?line=2691'>2692</a>\u001b[0m \u001b[39mif\u001b[39;00m means\u001b[39m.\u001b[39mdtype\u001b[39m.\u001b[39mis_integer:\n\u001b[0;32m-> <a href='file:///Users/xianningliu/Library/Python/3.8/lib/python/site-packages/tensorflow/python/ops/math_ops.py?line=2692'>2693</a>\u001b[0m   \u001b[39mraise\u001b[39;00m \u001b[39mTypeError\u001b[39;00m(\u001b[39mf\u001b[39m\u001b[39m\"\u001b[39m\u001b[39mInput must be either real or complex. \u001b[39m\u001b[39m\"\u001b[39m\n\u001b[1;32m   <a href='file:///Users/xianningliu/Library/Python/3.8/lib/python/site-packages/tensorflow/python/ops/math_ops.py?line=2693'>2694</a>\u001b[0m                   \u001b[39mf\u001b[39m\u001b[39m\"\u001b[39m\u001b[39mReceived integer type \u001b[39m\u001b[39m{\u001b[39;00mmeans\u001b[39m.\u001b[39mdtype\u001b[39m}\u001b[39;00m\u001b[39m.\u001b[39m\u001b[39m\"\u001b[39m)\n\u001b[1;32m   <a href='file:///Users/xianningliu/Library/Python/3.8/lib/python/site-packages/tensorflow/python/ops/math_ops.py?line=2694'>2695</a>\u001b[0m diff \u001b[39m=\u001b[39m input_tensor \u001b[39m-\u001b[39m means\n\u001b[1;32m   <a href='file:///Users/xianningliu/Library/Python/3.8/lib/python/site-packages/tensorflow/python/ops/math_ops.py?line=2695'>2696</a>\u001b[0m \u001b[39mif\u001b[39;00m diff\u001b[39m.\u001b[39mdtype\u001b[39m.\u001b[39mis_complex:\n\u001b[1;32m   <a href='file:///Users/xianningliu/Library/Python/3.8/lib/python/site-packages/tensorflow/python/ops/math_ops.py?line=2696'>2697</a>\u001b[0m   \u001b[39m# For complex values we need to take the absolute value before squaring.\u001b[39;00m\n\u001b[1;32m   <a href='file:///Users/xianningliu/Library/Python/3.8/lib/python/site-packages/tensorflow/python/ops/math_ops.py?line=2697'>2698</a>\u001b[0m   \u001b[39m# This is achieved by multiplying with the conjugate.\u001b[39;00m\n",
      "\u001b[0;31mTypeError\u001b[0m: Input must be either real or complex. Received integer type <dtype: 'int64'>."
     ]
    }
   ],
   "source": [
    "farr = tf.cast(arr, tf.float32)\n",
    "tf.math.reduce_variance(arr), tf.math.reduce_std(arr)"
   ]
  }
 ],
 "metadata": {
  "interpreter": {
   "hash": "31f2aee4e71d21fbe5cf8b01ff0e069b9275f58929596ceb00d14d90e3e16cd6"
  },
  "kernelspec": {
   "display_name": "Python 3.8.9 64-bit",
   "language": "python",
   "name": "python3"
  },
  "language_info": {
   "codemirror_mode": {
    "name": "ipython",
    "version": 3
   },
   "file_extension": ".py",
   "mimetype": "text/x-python",
   "name": "python",
   "nbconvert_exporter": "python",
   "pygments_lexer": "ipython3",
   "version": "3.8.9"
  },
  "orig_nbformat": 4
 },
 "nbformat": 4,
 "nbformat_minor": 2
}
