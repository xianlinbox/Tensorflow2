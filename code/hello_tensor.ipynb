{
 "cells": [
  {
   "cell_type": "code",
   "execution_count": 2,
   "metadata": {},
   "outputs": [
    {
     "name": "stdout",
     "output_type": "stream",
     "text": [
      "2.9.0\n"
     ]
    }
   ],
   "source": [
    "import tensorflow as tf\n",
    "\n",
    "print(tf.__version__)"
   ]
  },
  {
   "cell_type": "code",
   "execution_count": 8,
   "metadata": {},
   "outputs": [
    {
     "name": "stdout",
     "output_type": "stream",
     "text": [
      "0\n",
      "1\n",
      "2\n",
      "3\n"
     ]
    }
   ],
   "source": [
    "scalar = tf.constant(7)\n",
    "print(scalar.ndim)\n",
    "\n",
    "vector = tf.constant([1, 2, 3], dtype=tf.float64)\n",
    "print(vector.ndim)\n",
    "\n",
    "matrix = tf.constant([[1, 2, 3], [4, 5, 6]])\n",
    "print(matrix.ndim)\n",
    "\n",
    "nd_tensor = tf.constant([[[1, 2, 3], [4, 5, 6]], [[7, 8, 9], [10, 11, 12]]])\n",
    "print(nd_tensor.ndim)"
   ]
  },
  {
   "cell_type": "markdown",
   "metadata": {},
   "source": [
    "Summarize:\n",
    "* Scalar is a number\n",
    "* Vector is a number with direction\n",
    "* matrix is 2 dimension array of numbers\n",
    "* tensor is an N-dimension array of numbers"
   ]
  },
  {
   "cell_type": "code",
   "execution_count": 4,
   "metadata": {},
   "outputs": [
    {
     "data": {
      "text/plain": [
       "<tf.Variable 'Variable:0' shape=(2,) dtype=int32, numpy=array([4, 3], dtype=int32)>"
      ]
     },
     "execution_count": 4,
     "metadata": {},
     "output_type": "execute_result"
    }
   ],
   "source": [
    "changable_tensor = tf.Variable([1,2])\n",
    "changable_tensor[1].assign(3)\n",
    "changable_tensor[0].assign(4)\n",
    "\n",
    "changable_tensor"
   ]
  },
  {
   "cell_type": "code",
   "execution_count": 9,
   "metadata": {},
   "outputs": [
    {
     "data": {
      "text/plain": [
       "(<tf.Tensor: shape=(2, 3), dtype=float32, numpy=\n",
       " array([[-0.90112925, -0.0175216 , -0.4188493 ],\n",
       "        [ 0.29532313,  0.08036723, -1.7199678 ]], dtype=float32)>,\n",
       " <tf.Tensor: shape=(2, 3), dtype=float32, numpy=\n",
       " array([[-0.29604465, -0.21134205,  0.01063002],\n",
       "        [ 1.5165398 ,  0.27305737, -0.29925638]], dtype=float32)>,\n",
       " <tf.Tensor: shape=(2, 3), dtype=bool, numpy=\n",
       " array([[False, False, False],\n",
       "        [False, False, False]])>)"
      ]
     },
     "execution_count": 9,
     "metadata": {},
     "output_type": "execute_result"
    }
   ],
   "source": [
    "random_1 = tf.random.Generator.from_seed(100)\n",
    "random_1 = random_1.normal([2, 3])\n",
    "random_2 = tf.random.Generator.from_seed(100)\n",
    "random_2 = random_2.normal([2, 3])\n",
    "random_1, random_2, random_1 == random_2"
   ]
  },
  {
   "cell_type": "code",
   "execution_count": 26,
   "metadata": {},
   "outputs": [
    {
     "data": {
      "text/plain": [
       "<tf.Tensor: shape=(3, 2), dtype=int32, numpy=\n",
       "array([[1, 2],\n",
       "       [4, 5],\n",
       "       [7, 8]], dtype=int32)>"
      ]
     },
     "execution_count": 26,
     "metadata": {},
     "output_type": "execute_result"
    }
   ],
   "source": [
    "origin = tf.constant([[1, 2],\n",
    "                      [4, 5],\n",
    "                      [7, 8],\n",
    "                      ]) \n",
    "\n",
    "shuffled = tf.random.shuffle(origin, seed=100)\n",
    "shuffled\n",
    "origin"
   ]
  },
  {
   "cell_type": "code",
   "execution_count": 59,
   "metadata": {},
   "outputs": [],
   "source": [
    "tf.random.set_seed(100)\n"
   ]
  },
  {
   "cell_type": "code",
   "execution_count": 67,
   "metadata": {},
   "outputs": [
    {
     "data": {
      "text/plain": [
       "<tf.Tensor: shape=(3, 2), dtype=int32, numpy=\n",
       "array([[4, 5],\n",
       "       [7, 8],\n",
       "       [1, 2]], dtype=int32)>"
      ]
     },
     "execution_count": 67,
     "metadata": {},
     "output_type": "execute_result"
    }
   ],
   "source": [
    "shuffled2 = tf.random.shuffle(origin,seed=100)\n",
    "\n",
    "shuffled2"
   ]
  },
  {
   "cell_type": "code",
   "execution_count": 69,
   "metadata": {},
   "outputs": [
    {
     "ename": "AttributeError",
     "evalue": "module 'tensorflow' has no attribute 'hunderd_ones'",
     "output_type": "error",
     "traceback": [
      "\u001b[0;31m---------------------------------------------------------------------------\u001b[0m",
      "\u001b[0;31mAttributeError\u001b[0m                            Traceback (most recent call last)",
      "\u001b[1;32m/Users/xianningliu/Documents/workspace/data_workspace/tensorflow2/code/hello_tensor.ipynb Cell 9'\u001b[0m in \u001b[0;36m<cell line: 3>\u001b[0;34m()\u001b[0m\n\u001b[1;32m      <a href='vscode-notebook-cell:/Users/xianningliu/Documents/workspace/data_workspace/tensorflow2/code/hello_tensor.ipynb#ch0000009?line=0'>1</a>\u001b[0m A\u001b[39m=\u001b[39m tf\u001b[39m.\u001b[39mones([\u001b[39m2\u001b[39m, \u001b[39m3\u001b[39m])\n\u001b[1;32m      <a href='vscode-notebook-cell:/Users/xianningliu/Documents/workspace/data_workspace/tensorflow2/code/hello_tensor.ipynb#ch0000009?line=1'>2</a>\u001b[0m B\u001b[39m=\u001b[39m tf\u001b[39m.\u001b[39mzeros([\u001b[39m3\u001b[39m, \u001b[39m2\u001b[39m])\n\u001b[0;32m----> <a href='vscode-notebook-cell:/Users/xianningliu/Documents/workspace/data_workspace/tensorflow2/code/hello_tensor.ipynb#ch0000009?line=2'>3</a>\u001b[0m C\u001b[39m=\u001b[39mtf\u001b[39m.\u001b[39;49mhunderd_ones([\u001b[39m2\u001b[39m, \u001b[39m3\u001b[39m])\n\u001b[1;32m      <a href='vscode-notebook-cell:/Users/xianningliu/Documents/workspace/data_workspace/tensorflow2/code/hello_tensor.ipynb#ch0000009?line=4'>5</a>\u001b[0m A,B,C\n",
      "\u001b[0;31mAttributeError\u001b[0m: module 'tensorflow' has no attribute 'hunderd_ones'"
     ]
    }
   ],
   "source": [
    "A= tf.ones([2, 3])\n",
    "B= tf.zeros([3, 2])\n",
    "\n",
    "A,B"
   ]
  },
  {
   "cell_type": "code",
   "execution_count": 77,
   "metadata": {},
   "outputs": [
    {
     "data": {
      "text/plain": [
       "(array([ 0,  1,  2,  3,  4,  5,  6,  7,  8,  9, 10, 11, 12, 13, 14, 15, 16,\n",
       "        17, 18, 19, 20, 21, 22, 23]),\n",
       " array([[ 0,  1,  2,  3,  4,  5,  6,  7],\n",
       "        [ 8,  9, 10, 11, 12, 13, 14, 15],\n",
       "        [16, 17, 18, 19, 20, 21, 22, 23]]))"
      ]
     },
     "execution_count": 77,
     "metadata": {},
     "output_type": "execute_result"
    }
   ],
   "source": [
    "import numpy as np\n",
    "\n",
    "npa = np.arange(24)\n",
    "npb = npa.reshape([3,8])\n",
    "\n",
    "npa,npb"
   ]
  },
  {
   "cell_type": "code",
   "execution_count": 79,
   "metadata": {},
   "outputs": [
    {
     "data": {
      "text/plain": [
       "(<tf.Tensor: shape=(24,), dtype=int64, numpy=\n",
       " array([ 0,  1,  2,  3,  4,  5,  6,  7,  8,  9, 10, 11, 12, 13, 14, 15, 16,\n",
       "        17, 18, 19, 20, 21, 22, 23])>,\n",
       " <tf.Tensor: shape=(2, 3, 4), dtype=int64, numpy=\n",
       " array([[[ 0,  1,  2,  3],\n",
       "         [ 4,  5,  6,  7],\n",
       "         [ 8,  9, 10, 11]],\n",
       " \n",
       "        [[12, 13, 14, 15],\n",
       "         [16, 17, 18, 19],\n",
       "         [20, 21, 22, 23]]])>,\n",
       " <tf.Tensor: shape=(), dtype=int32, numpy=24>)"
      ]
     },
     "execution_count": 79,
     "metadata": {},
     "output_type": "execute_result"
    }
   ],
   "source": [
    "ta = tf.constant(npa)\n",
    "tb = tf.constant(npa, shape=[2, 3, 4])\n",
    "size= tf.size(tb)\n",
    "ta,tb, size"
   ]
  },
  {
   "cell_type": "code",
   "execution_count": 89,
   "metadata": {},
   "outputs": [
    {
     "data": {
      "text/plain": [
       "(<tf.Tensor: shape=(2, 1), dtype=int32, numpy=\n",
       " array([[1],\n",
       "        [4]], dtype=int32)>,\n",
       " <tf.Tensor: shape=(), dtype=int32, numpy=3>)"
      ]
     },
     "execution_count": 89,
     "metadata": {},
     "output_type": "execute_result"
    }
   ],
   "source": [
    "original = tf.constant([[1, 2, 3], [4, 5, 6]])\n",
    "\n",
    "original[:2,:1]\n",
    "original[:2,:1], original[0][2]\n"
   ]
  },
  {
   "cell_type": "code",
   "execution_count": 97,
   "metadata": {},
   "outputs": [
    {
     "data": {
      "text/plain": [
       "(<tf.Tensor: shape=(2, 3, 1), dtype=int32, numpy=\n",
       " array([[[1],\n",
       "         [2],\n",
       "         [3]],\n",
       " \n",
       "        [[4],\n",
       "         [5],\n",
       "         [6]]], dtype=int32)>,\n",
       " <tf.Tensor: shape=(1, 2, 3), dtype=int32, numpy=\n",
       " array([[[1, 2, 3],\n",
       "         [4, 5, 6]]], dtype=int32)>,\n",
       " <tf.Tensor: shape=(1, 2, 3), dtype=int32, numpy=\n",
       " array([[[1, 2, 3],\n",
       "         [4, 5, 6]]], dtype=int32)>,\n",
       " <tf.Tensor: shape=(2, 1, 3), dtype=int32, numpy=\n",
       " array([[[1, 2, 3]],\n",
       " \n",
       "        [[4, 5, 6]]], dtype=int32)>,\n",
       " <tf.Tensor: shape=(2, 3, 1), dtype=int32, numpy=\n",
       " array([[[1],\n",
       "         [2],\n",
       "         [3]],\n",
       " \n",
       "        [[4],\n",
       "         [5],\n",
       "         [6]]], dtype=int32)>)"
      ]
     },
     "execution_count": 97,
     "metadata": {},
     "output_type": "execute_result"
    }
   ],
   "source": [
    "expand1 = original[..., tf.newaxis]\n",
    "expand2 = original[tf.newaxis, ...]\n",
    "expand3 = tf.expand_dims(original, axis=0)\n",
    "expand4 = tf.expand_dims(original, axis=1)\n",
    "expand5 = tf.expand_dims(original, axis=2)\n",
    "expand1, expand2, expand3, expand4, expand5"
   ]
  },
  {
   "cell_type": "code",
   "execution_count": 101,
   "metadata": {},
   "outputs": [
    {
     "data": {
      "text/plain": [
       "<tf.Tensor: shape=(2, 3), dtype=int32, numpy=\n",
       "array([[ 5, 10, 15],\n",
       "       [20, 25, 30]], dtype=int32)>"
      ]
     },
     "execution_count": 101,
     "metadata": {},
     "output_type": "execute_result"
    }
   ],
   "source": [
    "\n",
    "original +10\n",
    "original *10\n",
    "tf.multiply(original, 5)"
   ]
  },
  {
   "cell_type": "code",
   "execution_count": 107,
   "metadata": {},
   "outputs": [
    {
     "data": {
      "text/plain": [
       "<tf.Tensor: shape=(2, 2), dtype=int32, numpy=\n",
       "array([[30, 36],\n",
       "       [66, 81]], dtype=int32)>"
      ]
     },
     "execution_count": 107,
     "metadata": {},
     "output_type": "execute_result"
    }
   ],
   "source": [
    "origin2 = tf.constant([[1, 2], [4, 5],[7, 8]])\n",
    "tf.matmul(original, origin2)\n",
    "original @ origin2\n"
   ]
  },
  {
   "cell_type": "code",
   "execution_count": 112,
   "metadata": {},
   "outputs": [
    {
     "data": {
      "text/plain": [
       "<tf.Tensor: shape=(2, 2), dtype=int32, numpy=\n",
       "array([[14, 32],\n",
       "       [32, 77]], dtype=int32)>"
      ]
     },
     "execution_count": 112,
     "metadata": {},
     "output_type": "execute_result"
    }
   ],
   "source": [
    "tf.reshape(original, [3, 2]) @ original\n",
    "original\n",
    "original @ tf.transpose(original)"
   ]
  },
  {
   "cell_type": "code",
   "execution_count": 118,
   "metadata": {},
   "outputs": [
    {
     "data": {
      "text/plain": [
       "<tf.Tensor: shape=(2, 2), dtype=int32, numpy=\n",
       "array([[14, 32],\n",
       "       [32, 77]], dtype=int32)>"
      ]
     },
     "execution_count": 118,
     "metadata": {},
     "output_type": "execute_result"
    }
   ],
   "source": [
    "tf.tensordot( tf.transpose(original), original, axes=1)\n",
    "tf.tensordot( original, tf.transpose(original), axes=1)"
   ]
  },
  {
   "cell_type": "code",
   "execution_count": 119,
   "metadata": {},
   "outputs": [
    {
     "data": {
      "text/plain": [
       "(<tf.Tensor: shape=(2, 3), dtype=int32, numpy=\n",
       " array([[1, 2, 3],\n",
       "        [4, 5, 6]], dtype=int32)>,\n",
       " tf.int32)"
      ]
     },
     "execution_count": 119,
     "metadata": {},
     "output_type": "execute_result"
    }
   ],
   "source": [
    "original, original.dtype"
   ]
  },
  {
   "cell_type": "code",
   "execution_count": 120,
   "metadata": {},
   "outputs": [
    {
     "data": {
      "text/plain": [
       "<tf.Tensor: shape=(2, 3), dtype=float32, numpy=\n",
       "array([[1., 2., 3.],\n",
       "       [4., 5., 6.]], dtype=float32)>"
      ]
     },
     "execution_count": 120,
     "metadata": {},
     "output_type": "execute_result"
    }
   ],
   "source": [
    "tf.cast(original, tf.float32)"
   ]
  },
  {
   "cell_type": "code",
   "execution_count": 122,
   "metadata": {},
   "outputs": [
    {
     "data": {
      "text/plain": [
       "<tf.Tensor: shape=(20,), dtype=int64, numpy=\n",
       "array([770, 326, 672, 976, 909, 821, 971, 318, 258, 491,   4, 739, 349,\n",
       "        82, 993,   2, 292, 263,  16, 308])>"
      ]
     },
     "execution_count": 122,
     "metadata": {},
     "output_type": "execute_result"
    }
   ],
   "source": [
    "arr = tf.constant(np.random.randint(1,1000,size=20))\n",
    "arr"
   ]
  },
  {
   "cell_type": "code",
   "execution_count": 128,
   "metadata": {},
   "outputs": [
    {
     "data": {
      "text/plain": [
       "(<tf.Tensor: shape=(), dtype=int64, numpy=2>,\n",
       " <tf.Tensor: shape=(), dtype=int64, numpy=478>,\n",
       " <tf.Tensor: shape=(), dtype=int64, numpy=993>,\n",
       " <tf.Tensor: shape=(), dtype=int64, numpy=9560>)"
      ]
     },
     "execution_count": 128,
     "metadata": {},
     "output_type": "execute_result"
    }
   ],
   "source": [
    "tf.reduce_min(arr), tf.reduce_mean(arr), tf.reduce_max(arr), tf.reduce_sum(arr)"
   ]
  },
  {
   "cell_type": "code",
   "execution_count": 130,
   "metadata": {},
   "outputs": [
    {
     "data": {
      "text/plain": [
       "(<tf.Tensor: shape=(), dtype=float32, numpy=114792.8>,\n",
       " <tf.Tensor: shape=(), dtype=float32, numpy=338.81085>)"
      ]
     },
     "execution_count": 130,
     "metadata": {},
     "output_type": "execute_result"
    }
   ],
   "source": [
    "farr = tf.cast(arr, tf.float32)\n",
    "tf.math.reduce_variance(farr), tf.math.reduce_std(farr)"
   ]
  },
  {
   "cell_type": "code",
   "execution_count": 131,
   "metadata": {},
   "outputs": [
    {
     "data": {
      "text/plain": [
       "(<tf.Tensor: shape=(20,), dtype=int64, numpy=\n",
       " array([770, 326, 672, 976, 909, 821, 971, 318, 258, 491,   4, 739, 349,\n",
       "         82, 993,   2, 292, 263,  16, 308])>,\n",
       " <tf.Tensor: shape=(), dtype=int64, numpy=14>,\n",
       " <tf.Tensor: shape=(), dtype=int64, numpy=15>)"
      ]
     },
     "execution_count": 131,
     "metadata": {},
     "output_type": "execute_result"
    }
   ],
   "source": [
    "arr, tf.argmax(arr), tf.argmin(arr)"
   ]
  },
  {
   "cell_type": "code",
   "execution_count": 136,
   "metadata": {},
   "outputs": [
    {
     "data": {
      "text/plain": [
       "(<tf.Tensor: shape=(1, 1, 2, 25), dtype=float32, numpy=\n",
       " array([[[[0.24900055, 0.48465526, 0.39165282, 0.8218267 , 0.23590696,\n",
       "           0.39270067, 0.96157587, 0.7378106 , 0.3086977 , 0.7820475 ,\n",
       "           0.36411405, 0.43852115, 0.39143312, 0.4100443 , 0.15650964,\n",
       "           0.16554844, 0.11952579, 0.99199855, 0.07539165, 0.69944966,\n",
       "           0.3041743 , 0.6850517 , 0.95208406, 0.65089023, 0.48965216],\n",
       "          [0.64302886, 0.50323474, 0.37081254, 0.50158453, 0.65716815,\n",
       "           0.42388284, 0.6438379 , 0.7099544 , 0.8554728 , 0.10746086,\n",
       "           0.1302582 , 0.74147284, 0.7842232 , 0.16333139, 0.18595266,\n",
       "           0.47453701, 0.6588017 , 0.9707295 , 0.62733424, 0.40020967,\n",
       "           0.9673735 , 0.13458717, 0.6554717 , 0.4056772 , 0.18046606]]]],\n",
       "       dtype=float32)>,\n",
       " <tf.Tensor: shape=(1, 2, 1, 25), dtype=float32, numpy=\n",
       " array([[[[0.76732683, 0.17561221, 0.7366072 , 0.7058151 , 0.42422843,\n",
       "           0.06578231, 0.4311316 , 0.76413023, 0.73609316, 0.90818596,\n",
       "           0.7354207 , 0.01241052, 0.15185893, 0.14998662, 0.69694173,\n",
       "           0.8881475 , 0.10579085, 0.08278334, 0.05811858, 0.05356407,\n",
       "           0.46689498, 0.7063756 , 0.03284144, 0.44032717, 0.40474534]],\n",
       " \n",
       "         [[0.08734787, 0.9362178 , 0.09859371, 0.34985936, 0.8211818 ,\n",
       "           0.22784019, 0.79620624, 0.6228684 , 0.45856822, 0.09262025,\n",
       "           0.58145595, 0.54290843, 0.5207161 , 0.10830402, 0.4017836 ,\n",
       "           0.035344  , 0.94818926, 0.13332808, 0.4160583 , 0.79990864,\n",
       "           0.35621738, 0.8081254 , 0.18336403, 0.7843964 , 0.5925404 ]]]],\n",
       "       dtype=float32)>)"
      ]
     },
     "execution_count": 136,
     "metadata": {},
     "output_type": "execute_result"
    }
   ],
   "source": [
    "tf.random.set_seed(100)\n",
    "arr = tf.constant(tf.random.uniform(shape=[50]), shape=[1,1,2,25])\n",
    "arr2 = tf.constant(tf.random.uniform(shape=[50]), shape=[1,2,1,25])\n",
    "arr,arr2"
   ]
  },
  {
   "cell_type": "code",
   "execution_count": 135,
   "metadata": {},
   "outputs": [
    {
     "data": {
      "text/plain": [
       "(<tf.Tensor: shape=(2, 25), dtype=float32, numpy=\n",
       " array([[0.24900055, 0.48465526, 0.39165282, 0.8218267 , 0.23590696,\n",
       "         0.39270067, 0.96157587, 0.7378106 , 0.3086977 , 0.7820475 ,\n",
       "         0.36411405, 0.43852115, 0.39143312, 0.4100443 , 0.15650964,\n",
       "         0.16554844, 0.11952579, 0.99199855, 0.07539165, 0.69944966,\n",
       "         0.3041743 , 0.6850517 , 0.95208406, 0.65089023, 0.48965216],\n",
       "        [0.64302886, 0.50323474, 0.37081254, 0.50158453, 0.65716815,\n",
       "         0.42388284, 0.6438379 , 0.7099544 , 0.8554728 , 0.10746086,\n",
       "         0.1302582 , 0.74147284, 0.7842232 , 0.16333139, 0.18595266,\n",
       "         0.47453701, 0.6588017 , 0.9707295 , 0.62733424, 0.40020967,\n",
       "         0.9673735 , 0.13458717, 0.6554717 , 0.4056772 , 0.18046606]],\n",
       "       dtype=float32)>,\n",
       " <tf.Tensor: shape=(2, 25), dtype=float32, numpy=\n",
       " array([[0.76732683, 0.17561221, 0.7366072 , 0.7058151 , 0.42422843,\n",
       "         0.06578231, 0.4311316 , 0.76413023, 0.73609316, 0.90818596,\n",
       "         0.7354207 , 0.01241052, 0.15185893, 0.14998662, 0.69694173,\n",
       "         0.8881475 , 0.10579085, 0.08278334, 0.05811858, 0.05356407,\n",
       "         0.46689498, 0.7063756 , 0.03284144, 0.44032717, 0.40474534],\n",
       "        [0.08734787, 0.9362178 , 0.09859371, 0.34985936, 0.8211818 ,\n",
       "         0.22784019, 0.79620624, 0.6228684 , 0.45856822, 0.09262025,\n",
       "         0.58145595, 0.54290843, 0.5207161 , 0.10830402, 0.4017836 ,\n",
       "         0.035344  , 0.94818926, 0.13332808, 0.4160583 , 0.79990864,\n",
       "         0.35621738, 0.8081254 , 0.18336403, 0.7843964 , 0.5925404 ]],\n",
       "       dtype=float32)>)"
      ]
     },
     "execution_count": 135,
     "metadata": {},
     "output_type": "execute_result"
    }
   ],
   "source": [
    "squeezed = tf.squeeze(arr)\n",
    "squeezed2 = tf.squeeze(arr2)\n",
    "squeezed, squeezed2"
   ]
  },
  {
   "cell_type": "code",
   "execution_count": 146,
   "metadata": {},
   "outputs": [
    {
     "data": {
      "text/plain": [
       "(<tf.Tensor: shape=(5, 5), dtype=float32, numpy=\n",
       " array([[0., 0., 0., 1., 0.],\n",
       "        [0., 0., 1., 0., 0.],\n",
       "        [0., 0., 0., 1., 0.],\n",
       "        [0., 0., 0., 0., 1.],\n",
       "        [0., 0., 0., 0., 0.]], dtype=float32)>,\n",
       " <tf.Tensor: shape=(5, 5), dtype=string, numpy=\n",
       " array([[b'yuan', b'yuan', b'yuan', b'xian', b'yuan'],\n",
       "        [b'yuan', b'yuan', b'xian', b'yuan', b'yuan'],\n",
       "        [b'yuan', b'yuan', b'yuan', b'xian', b'yuan'],\n",
       "        [b'yuan', b'yuan', b'yuan', b'yuan', b'xian'],\n",
       "        [b'yuan', b'yuan', b'yuan', b'yuan', b'yuan']], dtype=object)>)"
      ]
     },
     "execution_count": 146,
     "metadata": {},
     "output_type": "execute_result"
    }
   ],
   "source": [
    "arr = [3,2,3,4,5]\n",
    "\n",
    "tf.one_hot(arr, depth=5), tf.one_hot(arr, depth=5, on_value='xian', off_value='yuan')\n"
   ]
  }
 ],
 "metadata": {
  "interpreter": {
   "hash": "31f2aee4e71d21fbe5cf8b01ff0e069b9275f58929596ceb00d14d90e3e16cd6"
  },
  "kernelspec": {
   "display_name": "Python 3.8.9 64-bit",
   "language": "python",
   "name": "python3"
  },
  "language_info": {
   "codemirror_mode": {
    "name": "ipython",
    "version": 3
   },
   "file_extension": ".py",
   "mimetype": "text/x-python",
   "name": "python",
   "nbconvert_exporter": "python",
   "pygments_lexer": "ipython3",
   "version": "3.8.9"
  },
  "orig_nbformat": 4
 },
 "nbformat": 4,
 "nbformat_minor": 2
}
