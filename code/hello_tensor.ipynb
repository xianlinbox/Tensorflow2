{
 "cells": [
  {
   "cell_type": "code",
   "execution_count": 2,
   "metadata": {},
   "outputs": [
    {
     "name": "stdout",
     "output_type": "stream",
     "text": [
      "2.9.0\n"
     ]
    }
   ],
   "source": [
    "import tensorflow as tf\n",
    "\n",
    "print(tf.__version__)"
   ]
  },
  {
   "cell_type": "code",
   "execution_count": 8,
   "metadata": {},
   "outputs": [
    {
     "name": "stdout",
     "output_type": "stream",
     "text": [
      "0\n",
      "1\n",
      "2\n",
      "3\n"
     ]
    }
   ],
   "source": [
    "scalar = tf.constant(7)\n",
    "print(scalar.ndim)\n",
    "\n",
    "vector = tf.constant([1, 2, 3], dtype=tf.float64)\n",
    "print(vector.ndim)\n",
    "\n",
    "matrix = tf.constant([[1, 2, 3], [4, 5, 6]])\n",
    "print(matrix.ndim)\n",
    "\n",
    "nd_tensor = tf.constant([[[1, 2, 3], [4, 5, 6]], [[7, 8, 9], [10, 11, 12]]])\n",
    "print(nd_tensor.ndim)"
   ]
  },
  {
   "cell_type": "markdown",
   "metadata": {},
   "source": [
    "Summarize:\n",
    "* Scalar is a number\n",
    "* Vector is a number with direction\n",
    "* matrix is 2 dimension array of numbers\n",
    "* tensor is an N-dimension array of numbers"
   ]
  },
  {
   "cell_type": "code",
   "execution_count": 4,
   "metadata": {},
   "outputs": [
    {
     "data": {
      "text/plain": [
       "<tf.Variable 'Variable:0' shape=(2,) dtype=int32, numpy=array([4, 3], dtype=int32)>"
      ]
     },
     "execution_count": 4,
     "metadata": {},
     "output_type": "execute_result"
    }
   ],
   "source": [
    "changable_tensor = tf.Variable([1,2])\n",
    "changable_tensor[1].assign(3)\n",
    "changable_tensor[0].assign(4)\n",
    "\n",
    "changable_tensor"
   ]
  },
  {
   "cell_type": "code",
   "execution_count": 8,
   "metadata": {},
   "outputs": [
    {
     "data": {
      "text/plain": [
       "(<tf.Tensor: shape=(2, 3), dtype=float32, numpy=\n",
       " array([[-0.90112925, -0.0175216 , -0.4188493 ],\n",
       "        [ 0.29532313,  0.08036723, -1.7199678 ]], dtype=float32)>,\n",
       " <tf.Tensor: shape=(2, 3), dtype=float32, numpy=\n",
       " array([[-0.90112925, -0.0175216 , -0.4188493 ],\n",
       "        [ 0.29532313,  0.08036723, -1.7199678 ]], dtype=float32)>,\n",
       " <tf.Tensor: shape=(2, 3), dtype=bool, numpy=\n",
       " array([[ True,  True,  True],\n",
       "        [ True,  True,  True]])>)"
      ]
     },
     "execution_count": 8,
     "metadata": {},
     "output_type": "execute_result"
    }
   ],
   "source": [
    "random_1 = tf.random.Generator.from_seed(100)\n",
    "random_1 = random_1.normal([2, 3])\n",
    "random_2 = tf.random.Generator.from_seed(10)\n",
    "random_2 = random_2.normal([2, 3])\n",
    "random_1, random_2, random_1 == random_2"
   ]
  }
 ],
 "metadata": {
  "interpreter": {
   "hash": "31f2aee4e71d21fbe5cf8b01ff0e069b9275f58929596ceb00d14d90e3e16cd6"
  },
  "kernelspec": {
   "display_name": "Python 3.8.9 64-bit",
   "language": "python",
   "name": "python3"
  },
  "language_info": {
   "codemirror_mode": {
    "name": "ipython",
    "version": 3
   },
   "file_extension": ".py",
   "mimetype": "text/x-python",
   "name": "python",
   "nbconvert_exporter": "python",
   "pygments_lexer": "ipython3",
   "version": "3.8.9"
  },
  "orig_nbformat": 4
 },
 "nbformat": 4,
 "nbformat_minor": 2
}
